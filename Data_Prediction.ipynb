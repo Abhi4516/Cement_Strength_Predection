{
 "cells": [
  {
   "cell_type": "code",
   "execution_count": 1,
   "id": "22e0ae5f",
   "metadata": {},
   "outputs": [],
   "source": [
    "import joblib\n",
    "import numpy as np"
   ]
  },
  {
   "cell_type": "code",
   "execution_count": 2,
   "id": "f9e2fafe",
   "metadata": {},
   "outputs": [],
   "source": [
    "best_xgb_model_cluster_0 = joblib.load('XGB_model_cluster_0.pkl')"
   ]
  },
  {
   "cell_type": "code",
   "execution_count": 3,
   "id": "d35468b0",
   "metadata": {},
   "outputs": [],
   "source": [
    "best_xgb_model_cluster_1 = joblib.load('XGB_model_cluster_1.pkl')"
   ]
  },
  {
   "cell_type": "code",
   "execution_count": 4,
   "id": "62fe11df",
   "metadata": {},
   "outputs": [],
   "source": [
    "best_xgb_model_cluster_2 = joblib.load('XGB_model_cluster_2.pkl')"
   ]
  },
  {
   "cell_type": "code",
   "execution_count": 5,
   "id": "a36a2b60",
   "metadata": {},
   "outputs": [],
   "source": [
    "best_xgb_model_cluster_3 = joblib.load('XGB_model_cluster_3.pkl')"
   ]
  },
  {
   "cell_type": "code",
   "execution_count": 6,
   "id": "923a4414",
   "metadata": {},
   "outputs": [],
   "source": [
    "kmean_clustering=joblib.load('KMean_cluster.pkl')"
   ]
  },
  {
   "cell_type": "code",
   "execution_count": 68,
   "id": "e9dc63b5",
   "metadata": {},
   "outputs": [
    {
     "ename": "SyntaxError",
     "evalue": "invalid syntax (153058919.py, line 1)",
     "output_type": "error",
     "traceback": [
      "\u001b[1;36m  Cell \u001b[1;32mIn[68], line 1\u001b[1;36m\u001b[0m\n\u001b[1;33m    276.4\t116.0\t90.3\t179.6\t8.9\t870.1\t768.3\t28\t44.28\u001b[0m\n\u001b[1;37m         \t^\u001b[0m\n\u001b[1;31mSyntaxError\u001b[0m\u001b[1;31m:\u001b[0m invalid syntax\n"
     ]
    }
   ],
   "source": [
    "540.0\t0.0\t0.0\t162.0\t2.5\t1055.0\t676.0\t28\t61.89"
   ]
  },
  {
   "cell_type": "code",
   "execution_count": 7,
   "id": "b7f3a72b",
   "metadata": {},
   "outputs": [
    {
     "name": "stdout",
     "output_type": "stream",
     "text": [
      "Enter value for Cement: 540\n",
      "Enter value for Blast Furnace Slag _component_2: 0\n",
      "Enter value for Fly Ash _component_3: 0\n",
      "Enter value for Water_component_4: 162\n",
      "Enter value for Superplasticizer_component_5: 2.5\n",
      "Enter value for Coarse Aggregate_component_6: 1055\n",
      "Enter value for Fine Aggregate_component_7: 676\n",
      "Enter value for Age_day: 28\n"
     ]
    }
   ],
   "source": [
    "input_values = []\n",
    "feature_labels = ['Cement', 'Blast Furnace Slag _component_2', 'Fly Ash _component_3', \n",
    "                  'Water_component_4', 'Superplasticizer_component_5', 'Coarse Aggregate_component_6', \n",
    "                  'Fine Aggregate_component_7', 'Age_day']\n",
    "\n",
    "for feature_label in feature_labels:\n",
    "    value = float(input(f\"Enter value for {feature_label}: \"))\n",
    "    input_values.append(value)"
   ]
  },
  {
   "cell_type": "code",
   "execution_count": 8,
   "id": "d94077b4",
   "metadata": {},
   "outputs": [
    {
     "data": {
      "text/plain": [
       "[540.0, 0.0, 0.0, 162.0, 2.5, 1055.0, 676.0, 28.0]"
      ]
     },
     "execution_count": 8,
     "metadata": {},
     "output_type": "execute_result"
    }
   ],
   "source": [
    "input_values"
   ]
  },
  {
   "cell_type": "code",
   "execution_count": 9,
   "id": "5a72c9b2",
   "metadata": {},
   "outputs": [],
   "source": [
    "new_data = np.array(input_values).reshape(1, -1) "
   ]
  },
  {
   "cell_type": "code",
   "execution_count": 10,
   "id": "6766f92a",
   "metadata": {},
   "outputs": [],
   "source": [
    "new_data=np.log1p(new_data)"
   ]
  },
  {
   "cell_type": "code",
   "execution_count": 11,
   "id": "7be9938e",
   "metadata": {},
   "outputs": [
    {
     "data": {
      "text/plain": [
       "array([[6.29341928, 0.        , 0.        , 5.0937502 , 1.25276297,\n",
       "        6.96224346, 6.51767127, 3.36729583]])"
      ]
     },
     "execution_count": 11,
     "metadata": {},
     "output_type": "execute_result"
    }
   ],
   "source": [
    "new_data"
   ]
  },
  {
   "cell_type": "code",
   "execution_count": 12,
   "id": "4e1c46bb",
   "metadata": {},
   "outputs": [
    {
     "name": "stderr",
     "output_type": "stream",
     "text": [
      "C:\\Users\\ASUS ZenBook\\anaconda3\\Lib\\site-packages\\sklearn\\base.py:464: UserWarning: X does not have valid feature names, but KMeans was fitted with feature names\n",
      "  warnings.warn(\n"
     ]
    }
   ],
   "source": [
    "new_data_cluster = kmean_clustering.predict(new_data)"
   ]
  },
  {
   "cell_type": "code",
   "execution_count": 13,
   "id": "e318ae72",
   "metadata": {},
   "outputs": [
    {
     "data": {
      "text/plain": [
       "array([0])"
      ]
     },
     "execution_count": 13,
     "metadata": {},
     "output_type": "execute_result"
    }
   ],
   "source": [
    "new_data_cluster"
   ]
  },
  {
   "cell_type": "code",
   "execution_count": null,
   "id": "1075e900",
   "metadata": {},
   "outputs": [],
   "source": []
  },
  {
   "cell_type": "code",
   "execution_count": 14,
   "id": "86ec0a98",
   "metadata": {},
   "outputs": [
    {
     "name": "stdout",
     "output_type": "stream",
     "text": [
      "Cement Strength: [62.685036]\n"
     ]
    }
   ],
   "source": [
    "if new_data_cluster == 0  :\n",
    "    prediction = best_xgb_model_cluster_0.predict(new_data)\n",
    "elif new_data_cluster == 1:\n",
    "    prediction = best_xgb_model_cluster_1.predict(new_data)\n",
    "elif new_data_cluster ==2:\n",
    "    prediction=best_xgb_model_cluster_2.predict(new_data)\n",
    "elif new_data_cluster ==3: \n",
    "    prediction =best_xgb_model_cluster_3.predict(new_data)\n",
    "else:\n",
    "    prediction = None\n",
    "print(\"Cement Strength:\", prediction)"
   ]
  },
  {
   "cell_type": "code",
   "execution_count": null,
   "id": "eb25ffdc",
   "metadata": {},
   "outputs": [],
   "source": []
  },
  {
   "cell_type": "code",
   "execution_count": null,
   "id": "d88e0e77",
   "metadata": {},
   "outputs": [],
   "source": []
  }
 ],
 "metadata": {
  "kernelspec": {
   "display_name": "Python 3 (ipykernel)",
   "language": "python",
   "name": "python3"
  },
  "language_info": {
   "codemirror_mode": {
    "name": "ipython",
    "version": 3
   },
   "file_extension": ".py",
   "mimetype": "text/x-python",
   "name": "python",
   "nbconvert_exporter": "python",
   "pygments_lexer": "ipython3",
   "version": "3.11.5"
  }
 },
 "nbformat": 4,
 "nbformat_minor": 5
}
